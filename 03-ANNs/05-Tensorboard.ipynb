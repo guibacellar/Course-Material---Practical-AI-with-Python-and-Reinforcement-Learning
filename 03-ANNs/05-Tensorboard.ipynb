{
 "cells": [
  {
   "cell_type": "markdown",
   "metadata": {},
   "source": [
    "<a href=\"https://www.pieriandata.com\"><img src=\"../Pierian_Data_Logo.PNG\"></a>\n",
    "<strong><center>Copyright by Pierian Data Inc.</center></strong> \n",
    "<strong><center>Created by Jose Marcial Portilla.</center></strong>"
   ]
  },
  {
   "cell_type": "markdown",
   "metadata": {},
   "source": [
    "# Tensorboard\n",
    "\n",
    "---\n",
    "---\n",
    "\n",
    "**NOTE: You must watch the corresponding video to understand this lecture. This notebook can't serve as a full guide. Please watch the video BEFORE posting questions to the QA forum.**\n",
    "\n",
    "---\n",
    "---\n",
    "\n",
    "Let's explore the built in data visualization capabilities that come with Tensorboard.\n",
    "\n",
    "Full official tutorial available here: https://www.tensorflow.org/tensorboard/get_started\n",
    "\n",
    "## Data"
   ]
  },
  {
   "cell_type": "code",
   "execution_count": 1,
   "metadata": {},
   "outputs": [],
   "source": [
    "import pandas as pd\n",
    "import numpy as np"
   ]
  },
  {
   "cell_type": "code",
   "execution_count": 2,
   "metadata": {},
   "outputs": [],
   "source": [
    "df = pd.read_csv('../DATA/cancer_classification.csv')"
   ]
  },
  {
   "cell_type": "markdown",
   "metadata": {},
   "source": [
    "### Train Test Split"
   ]
  },
  {
   "cell_type": "code",
   "execution_count": 3,
   "metadata": {},
   "outputs": [],
   "source": [
    "X = df.drop('benign_0__mal_1',axis=1).values\n",
    "y = df['benign_0__mal_1'].values"
   ]
  },
  {
   "cell_type": "code",
   "execution_count": 4,
   "metadata": {},
   "outputs": [],
   "source": [
    "from sklearn.model_selection import train_test_split"
   ]
  },
  {
   "cell_type": "code",
   "execution_count": 5,
   "metadata": {},
   "outputs": [],
   "source": [
    "X_train, X_test, y_train, y_test = train_test_split(X,y,test_size=0.25,random_state=101)"
   ]
  },
  {
   "cell_type": "markdown",
   "metadata": {},
   "source": [
    "\n",
    "### Scaling Data"
   ]
  },
  {
   "cell_type": "code",
   "execution_count": 6,
   "metadata": {},
   "outputs": [],
   "source": [
    "from sklearn.preprocessing import MinMaxScaler"
   ]
  },
  {
   "cell_type": "code",
   "execution_count": 7,
   "metadata": {},
   "outputs": [],
   "source": [
    "scaler = MinMaxScaler()"
   ]
  },
  {
   "cell_type": "code",
   "execution_count": 8,
   "metadata": {},
   "outputs": [
    {
     "data": {
      "text/plain": [
       "MinMaxScaler()"
      ]
     },
     "execution_count": 8,
     "metadata": {},
     "output_type": "execute_result"
    }
   ],
   "source": [
    "scaler.fit(X_train)"
   ]
  },
  {
   "cell_type": "code",
   "execution_count": 9,
   "metadata": {},
   "outputs": [],
   "source": [
    "X_train = scaler.transform(X_train)\n",
    "X_test = scaler.transform(X_test)"
   ]
  },
  {
   "cell_type": "markdown",
   "metadata": {},
   "source": [
    "## Creating the Model"
   ]
  },
  {
   "cell_type": "code",
   "execution_count": 10,
   "metadata": {},
   "outputs": [],
   "source": [
    "import tensorflow as tf\n",
    "from tensorflow.keras.models import Sequential\n",
    "from tensorflow.keras.layers import Dense, Activation,Dropout"
   ]
  },
  {
   "cell_type": "code",
   "execution_count": 11,
   "metadata": {},
   "outputs": [],
   "source": [
    "from tensorflow.keras.callbacks import EarlyStopping,TensorBoard"
   ]
  },
  {
   "cell_type": "code",
   "execution_count": 12,
   "metadata": {},
   "outputs": [],
   "source": [
    "early_stop = EarlyStopping(monitor='val_loss', mode='min', verbose=1, patience=25)"
   ]
  },
  {
   "cell_type": "code",
   "execution_count": 13,
   "metadata": {},
   "outputs": [
    {
     "data": {
      "text/plain": [
       "'C:\\\\projects\\\\Course-Material---Practical-AI-with-Python-and-Reinforcement-Learning\\\\03-ANNs'"
      ]
     },
     "execution_count": 13,
     "metadata": {},
     "output_type": "execute_result"
    }
   ],
   "source": [
    "pwd"
   ]
  },
  {
   "cell_type": "markdown",
   "metadata": {},
   "source": [
    "## Creating the Tensorboard Callback\n",
    "\n",
    "TensorBoard is a visualization tool provided with TensorFlow.\n",
    "\n",
    "This callback logs events for TensorBoard, including:\n",
    "* Metrics summary plots\n",
    "* Training graph visualization\n",
    "* Activation histograms\n",
    "* Sampled profiling\n",
    "\n",
    "If you have installed TensorFlow with pip, you should be able\n",
    "to launch TensorBoard from the command line:\n",
    "\n",
    "```sh\n",
    "tensorboard --logdir=path_to_your_logs\n",
    "```\n",
    "\n",
    "You can find more information about TensorBoard\n",
    "[here](https://www.tensorflow.org/tensorboard/).\n",
    "\n",
    "    Arguments:\n",
    "        log_dir: the path of the directory where to save the log files to be\n",
    "          parsed by TensorBoard.\n",
    "        histogram_freq: frequency (in epochs) at which to compute activation and\n",
    "          weight histograms for the layers of the model. If set to 0, histograms\n",
    "          won't be computed. Validation data (or split) must be specified for\n",
    "          histogram visualizations.\n",
    "        write_graph: whether to visualize the graph in TensorBoard. The log file\n",
    "          can become quite large when write_graph is set to True.\n",
    "        write_images: whether to write model weights to visualize as image in\n",
    "          TensorBoard.\n",
    "        update_freq: `'batch'` or `'epoch'` or integer. When using `'batch'`,\n",
    "          writes the losses and metrics to TensorBoard after each batch. The same\n",
    "          applies for `'epoch'`. If using an integer, let's say `1000`, the\n",
    "          callback will write the metrics and losses to TensorBoard every 1000\n",
    "          samples. Note that writing too frequently to TensorBoard can slow down\n",
    "          your training.\n",
    "        profile_batch: Profile the batch to sample compute characteristics. By\n",
    "          default, it will profile the second batch. Set profile_batch=0 to\n",
    "          disable profiling. Must run in TensorFlow eager mode.\n",
    "        embeddings_freq: frequency (in epochs) at which embedding layers will\n",
    "          be visualized. If set to 0, embeddings won't be visualized.\n",
    "       "
   ]
  },
  {
   "cell_type": "code",
   "execution_count": 14,
   "metadata": {},
   "outputs": [],
   "source": [
    "from datetime import datetime"
   ]
  },
  {
   "cell_type": "code",
   "execution_count": 15,
   "metadata": {},
   "outputs": [
    {
     "data": {
      "text/plain": [
       "'2021-09-07--0911'"
      ]
     },
     "execution_count": 15,
     "metadata": {},
     "output_type": "execute_result"
    }
   ],
   "source": [
    "datetime.now().strftime(\"%Y-%m-%d--%H%M\")"
   ]
  },
  {
   "cell_type": "code",
   "execution_count": 17,
   "metadata": {},
   "outputs": [],
   "source": [
    "# WINDOWS: Use \"logs\\\\fit\"\n",
    "# MACOS/LINUX: Use \"logs\\fit\"\n",
    "\n",
    "log_directory = 'logs\\\\fit'\n",
    "\n",
    "# OPTIONAL: ADD A TIMESTAMP FOR UNIQUE FOLDER\n",
    "# timestamp = datetime.now().strftime(\"%Y-%m-%d--%H%M\")\n",
    "# log_directory = log_directory + '\\\\' + timestamp\n",
    "\n",
    "\n",
    "board = TensorBoard(log_dir=log_directory,histogram_freq=1,\n",
    "    write_graph=True,\n",
    "    write_images=True,\n",
    "    update_freq='epoch',\n",
    "    profile_batch=2,\n",
    "    embeddings_freq=1)"
   ]
  },
  {
   "cell_type": "markdown",
   "metadata": {},
   "source": [
    "Now create the model layers:"
   ]
  },
  {
   "cell_type": "code",
   "execution_count": 18,
   "metadata": {},
   "outputs": [],
   "source": [
    "model = Sequential()\n",
    "model.add(Dense(units=30,activation='relu'))\n",
    "model.add(Dropout(0.5))\n",
    "model.add(Dense(units=15,activation='relu'))\n",
    "model.add(Dropout(0.5))\n",
    "model.add(Dense(units=1,activation='sigmoid'))\n",
    "model.compile(loss='binary_crossentropy', optimizer='adam')"
   ]
  },
  {
   "cell_type": "markdown",
   "metadata": {},
   "source": [
    "## Train the Model"
   ]
  },
  {
   "cell_type": "code",
   "execution_count": 24,
   "metadata": {},
   "outputs": [
    {
     "name": "stdout",
     "output_type": "stream",
     "text": [
      "Epoch 1/600\n",
      "14/14 [==============================] - 0s 5ms/step - loss: 0.0824 - val_loss: 0.1084\n",
      "Epoch 2/600\n",
      "14/14 [==============================] - 0s 2ms/step - loss: 0.0861 - val_loss: 0.1352\n",
      "Epoch 3/600\n",
      "14/14 [==============================] - 0s 2ms/step - loss: 0.0819 - val_loss: 0.1201\n",
      "Epoch 4/600\n",
      "14/14 [==============================] - 0s 2ms/step - loss: 0.0608 - val_loss: 0.1282\n",
      "Epoch 5/600\n",
      "14/14 [==============================] - 0s 2ms/step - loss: 0.0794 - val_loss: 0.1186\n",
      "Epoch 6/600\n",
      "14/14 [==============================] - 0s 2ms/step - loss: 0.0686 - val_loss: 0.1068\n",
      "Epoch 7/600\n",
      "14/14 [==============================] - 0s 2ms/step - loss: 0.0805 - val_loss: 0.1032\n",
      "Epoch 8/600\n",
      "14/14 [==============================] - 0s 2ms/step - loss: 0.0947 - val_loss: 0.1170\n",
      "Epoch 9/600\n",
      "14/14 [==============================] - 0s 2ms/step - loss: 0.0757 - val_loss: 0.1012\n",
      "Epoch 10/600\n",
      "14/14 [==============================] - 0s 2ms/step - loss: 0.0747 - val_loss: 0.1276\n",
      "Epoch 11/600\n",
      "14/14 [==============================] - 0s 2ms/step - loss: 0.0733 - val_loss: 0.1196\n",
      "Epoch 12/600\n",
      "14/14 [==============================] - 0s 2ms/step - loss: 0.0655 - val_loss: 0.0992\n",
      "Epoch 13/600\n",
      "14/14 [==============================] - 0s 2ms/step - loss: 0.0789 - val_loss: 0.0979\n",
      "Epoch 14/600\n",
      "14/14 [==============================] - 0s 2ms/step - loss: 0.0853 - val_loss: 0.1174\n",
      "Epoch 15/600\n",
      "14/14 [==============================] - 0s 2ms/step - loss: 0.0834 - val_loss: 0.1393\n",
      "Epoch 16/600\n",
      "14/14 [==============================] - 0s 2ms/step - loss: 0.0718 - val_loss: 0.1336\n",
      "Epoch 17/600\n",
      "14/14 [==============================] - 0s 2ms/step - loss: 0.0717 - val_loss: 0.1085\n",
      "Epoch 18/600\n",
      "14/14 [==============================] - 0s 2ms/step - loss: 0.0670 - val_loss: 0.1066\n",
      "Epoch 19/600\n",
      "14/14 [==============================] - 0s 2ms/step - loss: 0.0805 - val_loss: 0.1119\n",
      "Epoch 20/600\n",
      "14/14 [==============================] - 0s 3ms/step - loss: 0.0714 - val_loss: 0.1102\n",
      "Epoch 21/600\n",
      "14/14 [==============================] - 0s 2ms/step - loss: 0.0742 - val_loss: 0.0989\n",
      "Epoch 22/600\n",
      "14/14 [==============================] - 0s 2ms/step - loss: 0.0732 - val_loss: 0.1124\n",
      "Epoch 23/600\n",
      "14/14 [==============================] - 0s 2ms/step - loss: 0.0770 - val_loss: 0.1104\n",
      "Epoch 24/600\n",
      "14/14 [==============================] - 0s 2ms/step - loss: 0.0635 - val_loss: 0.1319\n",
      "Epoch 25/600\n",
      "14/14 [==============================] - 0s 2ms/step - loss: 0.0636 - val_loss: 0.1247\n",
      "Epoch 26/600\n",
      "14/14 [==============================] - 0s 2ms/step - loss: 0.0781 - val_loss: 0.1185\n",
      "Epoch 27/600\n",
      "14/14 [==============================] - 0s 2ms/step - loss: 0.0661 - val_loss: 0.1099\n",
      "Epoch 28/600\n",
      "14/14 [==============================] - 0s 2ms/step - loss: 0.0669 - val_loss: 0.0965\n",
      "Epoch 29/600\n",
      "14/14 [==============================] - 0s 2ms/step - loss: 0.0590 - val_loss: 0.1053\n",
      "Epoch 30/600\n",
      "14/14 [==============================] - 0s 2ms/step - loss: 0.0758 - val_loss: 0.1387\n",
      "Epoch 31/600\n",
      "14/14 [==============================] - 0s 2ms/step - loss: 0.0660 - val_loss: 0.1246\n",
      "Epoch 32/600\n",
      "14/14 [==============================] - 0s 2ms/step - loss: 0.0849 - val_loss: 0.1239\n",
      "Epoch 33/600\n",
      "14/14 [==============================] - 0s 2ms/step - loss: 0.0729 - val_loss: 0.1295\n",
      "Epoch 34/600\n",
      "14/14 [==============================] - 0s 2ms/step - loss: 0.0681 - val_loss: 0.1392\n",
      "Epoch 35/600\n",
      "14/14 [==============================] - 0s 2ms/step - loss: 0.0731 - val_loss: 0.1060\n",
      "Epoch 36/600\n",
      "14/14 [==============================] - 0s 3ms/step - loss: 0.0757 - val_loss: 0.1085\n",
      "Epoch 37/600\n",
      "14/14 [==============================] - 0s 2ms/step - loss: 0.0738 - val_loss: 0.1358\n",
      "Epoch 38/600\n",
      "14/14 [==============================] - 0s 2ms/step - loss: 0.0677 - val_loss: 0.1274\n",
      "Epoch 39/600\n",
      "14/14 [==============================] - 0s 2ms/step - loss: 0.0670 - val_loss: 0.1094\n",
      "Epoch 40/600\n",
      "14/14 [==============================] - 0s 2ms/step - loss: 0.0717 - val_loss: 0.1289\n",
      "Epoch 41/600\n",
      "14/14 [==============================] - 0s 2ms/step - loss: 0.0725 - val_loss: 0.1315\n",
      "Epoch 42/600\n",
      "14/14 [==============================] - 0s 2ms/step - loss: 0.0618 - val_loss: 0.1333\n",
      "Epoch 43/600\n",
      "14/14 [==============================] - 0s 2ms/step - loss: 0.0565 - val_loss: 0.1514\n",
      "Epoch 44/600\n",
      "14/14 [==============================] - 0s 2ms/step - loss: 0.0828 - val_loss: 0.0963\n",
      "Epoch 45/600\n",
      "14/14 [==============================] - 0s 2ms/step - loss: 0.0513 - val_loss: 0.1268\n",
      "Epoch 46/600\n",
      "14/14 [==============================] - 0s 2ms/step - loss: 0.0580 - val_loss: 0.1220\n",
      "Epoch 47/600\n",
      "14/14 [==============================] - 0s 2ms/step - loss: 0.0619 - val_loss: 0.1160\n",
      "Epoch 48/600\n",
      "14/14 [==============================] - 0s 2ms/step - loss: 0.0879 - val_loss: 0.2181\n",
      "Epoch 49/600\n",
      "14/14 [==============================] - 0s 2ms/step - loss: 0.0829 - val_loss: 0.1045\n",
      "Epoch 50/600\n",
      "14/14 [==============================] - 0s 2ms/step - loss: 0.0637 - val_loss: 0.1006\n",
      "Epoch 51/600\n",
      "14/14 [==============================] - 0s 2ms/step - loss: 0.0816 - val_loss: 0.1419\n",
      "Epoch 52/600\n",
      "14/14 [==============================] - 0s 2ms/step - loss: 0.0574 - val_loss: 0.1274\n",
      "Epoch 53/600\n",
      "14/14 [==============================] - 0s 2ms/step - loss: 0.0591 - val_loss: 0.1153\n",
      "Epoch 54/600\n",
      "14/14 [==============================] - 0s 2ms/step - loss: 0.0753 - val_loss: 0.1266\n",
      "Epoch 55/600\n",
      "14/14 [==============================] - 0s 2ms/step - loss: 0.0496 - val_loss: 0.1280\n",
      "Epoch 56/600\n",
      "14/14 [==============================] - 0s 2ms/step - loss: 0.0608 - val_loss: 0.0992\n",
      "Epoch 57/600\n",
      "14/14 [==============================] - 0s 2ms/step - loss: 0.0765 - val_loss: 0.1362\n",
      "Epoch 58/600\n",
      "14/14 [==============================] - 0s 2ms/step - loss: 0.0671 - val_loss: 0.1258\n",
      "Epoch 59/600\n",
      "14/14 [==============================] - 0s 2ms/step - loss: 0.0703 - val_loss: 0.1117\n",
      "Epoch 60/600\n",
      "14/14 [==============================] - 0s 2ms/step - loss: 0.0537 - val_loss: 0.1180\n",
      "Epoch 61/600\n",
      "14/14 [==============================] - 0s 2ms/step - loss: 0.0581 - val_loss: 0.1533\n",
      "Epoch 62/600\n",
      "14/14 [==============================] - 0s 2ms/step - loss: 0.0659 - val_loss: 0.1368\n",
      "Epoch 63/600\n",
      "14/14 [==============================] - 0s 2ms/step - loss: 0.0738 - val_loss: 0.1209\n",
      "Epoch 64/600\n",
      "14/14 [==============================] - 0s 3ms/step - loss: 0.0473 - val_loss: 0.1225\n",
      "Epoch 65/600\n",
      "14/14 [==============================] - 0s 3ms/step - loss: 0.0611 - val_loss: 0.1383\n",
      "Epoch 66/600\n",
      "14/14 [==============================] - 0s 2ms/step - loss: 0.0546 - val_loss: 0.1468\n",
      "Epoch 67/600\n",
      "14/14 [==============================] - 0s 3ms/step - loss: 0.0481 - val_loss: 0.1189\n",
      "Epoch 68/600\n",
      "14/14 [==============================] - 0s 2ms/step - loss: 0.0654 - val_loss: 0.1154\n",
      "Epoch 69/600\n",
      "14/14 [==============================] - 0s 4ms/step - loss: 0.0744 - val_loss: 0.1336\n",
      "Epoch 00069: early stopping\n"
     ]
    },
    {
     "data": {
      "text/plain": [
       "<keras.callbacks.History at 0x2a0a9ad6688>"
      ]
     },
     "execution_count": 24,
     "metadata": {},
     "output_type": "execute_result"
    }
   ],
   "source": [
    "model.fit(x=X_train, \n",
    "          y=y_train, \n",
    "          epochs=600,\n",
    "          validation_data=(X_test, y_test), verbose=1,\n",
    "          callbacks=[early_stop,board]\n",
    "          )"
   ]
  },
  {
   "cell_type": "markdown",
   "metadata": {},
   "source": [
    "# Running Tensorboard\n"
   ]
  },
  {
   "cell_type": "markdown",
   "metadata": {},
   "source": [
    "## Running through the Command Line\n",
    "\n",
    "**Watch video to see how to run Tensorboard through a command line call.**"
   ]
  },
  {
   "cell_type": "markdown",
   "metadata": {},
   "source": [
    "Tensorboard will run locally in your browser at [http://localhost:6006/](http://localhost:6006/)\n"
   ]
  },
  {
   "cell_type": "code",
   "execution_count": 20,
   "metadata": {},
   "outputs": [
    {
     "name": "stdout",
     "output_type": "stream",
     "text": [
      "logs\\fit\n"
     ]
    }
   ],
   "source": [
    "print(log_directory)"
   ]
  },
  {
   "cell_type": "code",
   "execution_count": 21,
   "metadata": {},
   "outputs": [
    {
     "data": {
      "text/plain": [
       "'C:\\\\projects\\\\Course-Material---Practical-AI-with-Python-and-Reinforcement-Learning\\\\03-ANNs'"
      ]
     },
     "execution_count": 21,
     "metadata": {},
     "output_type": "execute_result"
    }
   ],
   "source": [
    "pwd"
   ]
  },
  {
   "cell_type": "markdown",
   "metadata": {},
   "source": [
    "### Use cd at your command line to change directory to the file path reported back by pwd or your current .py file location.\n",
    "### Then run this code at your command line or terminal"
   ]
  },
  {
   "cell_type": "code",
   "execution_count": 22,
   "metadata": {},
   "outputs": [
    {
     "ename": "SyntaxError",
     "evalue": "invalid syntax (Temp/ipykernel_24056/1592440942.py, line 1)",
     "output_type": "error",
     "traceback": [
      "\u001b[1;36m  File \u001b[1;32m\"C:\\Users\\TH30BS~1\\AppData\\Local\\Temp/ipykernel_24056/1592440942.py\"\u001b[1;36m, line \u001b[1;32m1\u001b[0m\n\u001b[1;33m    tensorboard --logdir logs\\fit\u001b[0m\n\u001b[1;37m                            ^\u001b[0m\n\u001b[1;31mSyntaxError\u001b[0m\u001b[1;31m:\u001b[0m invalid syntax\n"
     ]
    }
   ],
   "source": [
    "tensorboard --logdir logs\\fit "
   ]
  }
 ],
 "metadata": {
  "kernelspec": {
   "display_name": "Python 3 (ipykernel)",
   "language": "python",
   "name": "python3"
  },
  "language_info": {
   "codemirror_mode": {
    "name": "ipython",
    "version": 3
   },
   "file_extension": ".py",
   "mimetype": "text/x-python",
   "name": "python",
   "nbconvert_exporter": "python",
   "pygments_lexer": "ipython3",
   "version": "3.7.9"
  }
 },
 "nbformat": 4,
 "nbformat_minor": 2
}
